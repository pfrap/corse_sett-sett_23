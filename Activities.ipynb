{
  "nbformat": 4,
  "nbformat_minor": 0,
  "metadata": {
    "colab": {
      "provenance": [],
      "authorship_tag": "ABX9TyNVVDGGyYj9o6e2iHjmTczG"
    },
    "kernelspec": {
      "name": "python3",
      "display_name": "Python 3"
    },
    "language_info": {
      "name": "python"
    }
  },
  "cells": [
    {
      "cell_type": "code",
      "execution_count": 199,
      "metadata": {
        "id": "Pqe_ofnjo8aa"
      },
      "outputs": [],
      "source": [
        "import pandas as pd\n",
        "import numpy as np\n",
        "from matplotlib import pyplot as plt"
      ]
    },
    {
      "cell_type": "code",
      "source": [
        "df=pd.read_csv(\"/content/activities_r01.csv\", delimiter=\",\", decimal=\",\")"
      ],
      "metadata": {
        "id": "ZkC45DDWqaPg"
      },
      "execution_count": 200,
      "outputs": []
    },
    {
      "cell_type": "code",
      "source": [
        "df.columns"
      ],
      "metadata": {
        "colab": {
          "base_uri": "https://localhost:8080/"
        },
        "id": "2hUqkIwoxxnN",
        "outputId": "bfb9f0e1-b575-4a6d-cd46-93a749b65f68"
      },
      "execution_count": 201,
      "outputs": [
        {
          "output_type": "execute_result",
          "data": {
            "text/plain": [
              "Index(['Tipo di attività', 'Data', 'Preferita', 'Titolo', 'Distanza',\n",
              "       'Calorie', 'Tempo', 'FC Media', 'FC max', 'TE attività aerobica',\n",
              "       'Cadenza di corsa media', 'Cadenza di corsa max', 'Passo medio',\n",
              "       'Passo migliore', 'Ascesa totale', 'Discesa totale',\n",
              "       'Lunghezza media passo', 'Rapporto verticale medio',\n",
              "       'Oscillazione verticale media', 'Tempo medio di contatto con il suolo',\n",
              "       'Training Stress Score®', 'Potenza media', 'Potenza max', 'Grit',\n",
              "       'Flow', 'Swolf medio', 'Frequenza media vogate', 'Ripetizioni totali',\n",
              "       'Tempo di immersione', 'Temperatura min', 'Intervallo di superficie',\n",
              "       'Decompressione', 'Tempo Lap migliore', 'Numero di Lap',\n",
              "       'Temperatura max', 'Frequenza respiratoria media',\n",
              "       'Frequenza respiratoria minima', 'Frequenza respiratoria massima',\n",
              "       'Variazione stress', 'Stress iniziale', 'Stress finale', 'Stress medio',\n",
              "       'Stress max', 'Tempo in movimento', 'Tempo trascorso', 'Quota minima',\n",
              "       'Quota massima'],\n",
              "      dtype='object')"
            ]
          },
          "metadata": {},
          "execution_count": 201
        }
      ]
    },
    {
      "cell_type": "code",
      "source": [
        "#Date\n",
        "df[\"Data\"]=pd.to_datetime(df[\"Data\"])\n",
        "\n",
        "#Tempo\n",
        "df[\"Tempo\"]=pd.to_datetime(df[\"Tempo\"],format='%H:%M:%S', errors=\"coerce\")\n",
        "df[\"Tempo\"]=pd.to_timedelta(df[\"Tempo\"].dt.strftime(\"%H:%M:%S\"))\n",
        "\n",
        "df[\"Tempo in movimento\"]=pd.to_datetime(df[\"Tempo in movimento\"],format='%H:%M:%S', errors=\"coerce\")\n",
        "df[\"Tempo in movimento\"]=pd.to_timedelta(df[\"Tempo in movimento\"].dt.strftime(\"%H:%M:%S\"))\n",
        "\n",
        "df[\"Tempo trascorso\"]=pd.to_datetime(df[\"Tempo trascorso\"],format='%H:%M:%S', errors=\"coerce\")\n",
        "df[\"Tempo trascorso\"]=pd.to_timedelta(df[\"Tempo trascorso\"].dt.strftime(\"%H:%M:%S\"))\n",
        "\n",
        "#Minuti e secondi\n",
        "df[\"Passo medio\"]=pd.to_datetime(df[\"Passo medio\"],format='%M:%S', errors=\"coerce\")\n",
        "df[\"Passo medio\"]=pd.to_timedelta(df[\"Passo medio\"].dt.strftime(\"%H:%M:%S\"))\n",
        "\n",
        "df[\"Passo migliore\"]=pd.to_datetime(df[\"Passo migliore\"],format='%M:%S', errors=\"coerce\")\n",
        "df[\"Passo migliore\"]=pd.to_timedelta(df[\"Passo migliore\"].dt.strftime(\"%H:%M:%S\"))\n",
        "\n",
        "df[\"Tempo Lap migliore\"]=pd.to_datetime(df[\"Tempo Lap migliore\"],format='%M:%S', errors=\"coerce\")\n",
        "df[\"Tempo Lap migliore\"]=pd.to_timedelta(df[\"Tempo Lap migliore\"].dt.strftime(\"%H:%M:%S\"))"
      ],
      "metadata": {
        "id": "C_KH-NKR0Aan"
      },
      "execution_count": 202,
      "outputs": []
    },
    {
      "cell_type": "code",
      "source": [
        "dfNew=df[(df['Tipo di attività']==\"Corsa\")&(df['TE attività aerobica']>0)&(df['Distanza']>2)]\n",
        "dfNew=dfNew.drop(columns=['Preferita', 'Ascesa totale', 'Discesa totale',\n",
        "       'Lunghezza media passo', 'Rapporto verticale medio',\n",
        "       'Oscillazione verticale media', 'Tempo medio di contatto con il suolo',\n",
        "       'Training Stress Score®', 'Potenza media', 'Potenza max', 'Grit',\n",
        "       'Flow', 'Swolf medio', 'Frequenza media vogate', 'Ripetizioni totali',\n",
        "       'Tempo di immersione', 'Temperatura min', 'Intervallo di superficie',\n",
        "       'Decompressione',\n",
        "       'Temperatura max', 'Frequenza respiratoria media',\n",
        "       'Frequenza respiratoria minima', 'Frequenza respiratoria massima','Quota minima',\n",
        "       'Quota massima','Variazione stress', 'Stress iniziale', 'Stress finale', 'Stress medio',\n",
        "       'Stress max'])"
      ],
      "metadata": {
        "id": "TTbk8M8_5qW3"
      },
      "execution_count": 203,
      "outputs": []
    },
    {
      "cell_type": "code",
      "source": [
        "dfNew=dfNew.astype({\"Calorie\":int})"
      ],
      "metadata": {
        "id": "1xWT4byS_DTZ"
      },
      "execution_count": 204,
      "outputs": []
    },
    {
      "cell_type": "code",
      "source": [
        "dfNew[\"Qta\"]=1"
      ],
      "metadata": {
        "id": "-CLr2x4j_Ib-"
      },
      "execution_count": 205,
      "outputs": []
    },
    {
      "cell_type": "code",
      "source": [
        "dfNew.columns"
      ],
      "metadata": {
        "id": "Opfu07ryKPsG",
        "colab": {
          "base_uri": "https://localhost:8080/"
        },
        "outputId": "b0d7158e-881f-4fb7-d1e9-ed5e02ca439c"
      },
      "execution_count": 206,
      "outputs": [
        {
          "output_type": "execute_result",
          "data": {
            "text/plain": [
              "Index(['Tipo di attività', 'Data', 'Titolo', 'Distanza', 'Calorie', 'Tempo',\n",
              "       'FC Media', 'FC max', 'TE attività aerobica', 'Cadenza di corsa media',\n",
              "       'Cadenza di corsa max', 'Passo medio', 'Passo migliore',\n",
              "       'Tempo Lap migliore', 'Numero di Lap', 'Tempo in movimento',\n",
              "       'Tempo trascorso', 'Qta'],\n",
              "      dtype='object')"
            ]
          },
          "metadata": {},
          "execution_count": 206
        }
      ]
    },
    {
      "cell_type": "code",
      "source": [
        "dfNew.dtypes"
      ],
      "metadata": {
        "id": "eAVEkZkp0YvJ",
        "colab": {
          "base_uri": "https://localhost:8080/"
        },
        "outputId": "f97b0a96-be4c-4fc6-9c02-98a709b8c8f6"
      },
      "execution_count": 207,
      "outputs": [
        {
          "output_type": "execute_result",
          "data": {
            "text/plain": [
              "Tipo di attività                   object\n",
              "Data                       datetime64[ns]\n",
              "Titolo                             object\n",
              "Distanza                          float64\n",
              "Calorie                             int64\n",
              "Tempo                     timedelta64[ns]\n",
              "FC Media                            int64\n",
              "FC max                              int64\n",
              "TE attività aerobica              float64\n",
              "Cadenza di corsa media            float64\n",
              "Cadenza di corsa max              float64\n",
              "Passo medio               timedelta64[ns]\n",
              "Passo migliore            timedelta64[ns]\n",
              "Tempo Lap migliore        timedelta64[ns]\n",
              "Numero di Lap                       int64\n",
              "Tempo in movimento        timedelta64[ns]\n",
              "Tempo trascorso           timedelta64[ns]\n",
              "Qta                                 int64\n",
              "dtype: object"
            ]
          },
          "metadata": {},
          "execution_count": 207
        }
      ]
    },
    {
      "cell_type": "markdown",
      "source": [
        "# Scatter plot"
      ],
      "metadata": {
        "id": "Y-xjG0RxoG4J"
      }
    },
    {
      "cell_type": "code",
      "source": [
        "dfNew.head()"
      ],
      "metadata": {
        "colab": {
          "base_uri": "https://localhost:8080/",
          "height": 539
        },
        "id": "o0QlVSn934ek",
        "outputId": "d1f601f9-06ea-4b3f-f5ac-d22ecf7bd74c"
      },
      "execution_count": 208,
      "outputs": [
        {
          "output_type": "execute_result",
          "data": {
            "text/plain": [
              "  Tipo di attività                Data  \\\n",
              "0            Corsa 2023-09-15 16:58:14   \n",
              "1            Corsa 2023-09-12 18:21:59   \n",
              "2            Corsa 2023-09-11 12:36:31   \n",
              "3            Corsa 2023-09-09 10:02:38   \n",
              "4            Corsa 2023-09-06 12:35:23   \n",
              "\n",
              "                                             Titolo  Distanza  Calorie  \\\n",
              "0                               Olgiate Olona Corsa      5.51      412   \n",
              "1                               Olgiate Olona Corsa      5.09      387   \n",
              "2                               Olgiate Olona Corsa      5.07      391   \n",
              "3  Olgiate Olona - 15' risc + 8x60'' (@175-185 bpm)      5.56      420   \n",
              "4                               Olgiate Olona Corsa      5.21      397   \n",
              "\n",
              "            Tempo  FC Media  FC max  TE attività aerobica  \\\n",
              "0 0 days 00:34:30       156     169                   3.6   \n",
              "1 0 days 00:33:28       155     184                   3.4   \n",
              "2 0 days 00:34:52       154     168                   3.5   \n",
              "3 0 days 00:35:18       156     178                   4.0   \n",
              "4 0 days 00:32:16       162     179                   4.0   \n",
              "\n",
              "   Cadenza di corsa media  Cadenza di corsa max     Passo medio  \\\n",
              "0                   166.0                 175.0 0 days 00:06:16   \n",
              "1                   163.0                 204.0 0 days 00:06:34   \n",
              "2                   163.0                 173.0 0 days 00:06:52   \n",
              "3                   164.0                 187.0 0 days 00:06:21   \n",
              "4                   165.0                 177.0 0 days 00:06:12   \n",
              "\n",
              "   Passo migliore Tempo Lap migliore  Numero di Lap Tempo in movimento  \\\n",
              "0 0 days 00:05:31                NaT              6    0 days 00:34:30   \n",
              "1 0 days 00:04:02                NaT              6    0 days 00:33:26   \n",
              "2 0 days 00:06:24                NaT              6    0 days 00:34:51   \n",
              "3 0 days 00:04:29                NaT             20    0 days 00:35:17   \n",
              "4 0 days 00:05:23                NaT              6    0 days 00:32:15   \n",
              "\n",
              "  Tempo trascorso  Qta  \n",
              "0 0 days 00:34:30    1  \n",
              "1 0 days 00:33:28    1  \n",
              "2 0 days 00:34:52    1  \n",
              "3 0 days 00:35:18    1  \n",
              "4 0 days 00:32:16    1  "
            ],
            "text/html": [
              "\n",
              "  <div id=\"df-784fa2cc-34e8-4ccd-a5e3-c402c07a917b\" class=\"colab-df-container\">\n",
              "    <div>\n",
              "<style scoped>\n",
              "    .dataframe tbody tr th:only-of-type {\n",
              "        vertical-align: middle;\n",
              "    }\n",
              "\n",
              "    .dataframe tbody tr th {\n",
              "        vertical-align: top;\n",
              "    }\n",
              "\n",
              "    .dataframe thead th {\n",
              "        text-align: right;\n",
              "    }\n",
              "</style>\n",
              "<table border=\"1\" class=\"dataframe\">\n",
              "  <thead>\n",
              "    <tr style=\"text-align: right;\">\n",
              "      <th></th>\n",
              "      <th>Tipo di attività</th>\n",
              "      <th>Data</th>\n",
              "      <th>Titolo</th>\n",
              "      <th>Distanza</th>\n",
              "      <th>Calorie</th>\n",
              "      <th>Tempo</th>\n",
              "      <th>FC Media</th>\n",
              "      <th>FC max</th>\n",
              "      <th>TE attività aerobica</th>\n",
              "      <th>Cadenza di corsa media</th>\n",
              "      <th>Cadenza di corsa max</th>\n",
              "      <th>Passo medio</th>\n",
              "      <th>Passo migliore</th>\n",
              "      <th>Tempo Lap migliore</th>\n",
              "      <th>Numero di Lap</th>\n",
              "      <th>Tempo in movimento</th>\n",
              "      <th>Tempo trascorso</th>\n",
              "      <th>Qta</th>\n",
              "    </tr>\n",
              "  </thead>\n",
              "  <tbody>\n",
              "    <tr>\n",
              "      <th>0</th>\n",
              "      <td>Corsa</td>\n",
              "      <td>2023-09-15 16:58:14</td>\n",
              "      <td>Olgiate Olona Corsa</td>\n",
              "      <td>5.51</td>\n",
              "      <td>412</td>\n",
              "      <td>0 days 00:34:30</td>\n",
              "      <td>156</td>\n",
              "      <td>169</td>\n",
              "      <td>3.6</td>\n",
              "      <td>166.0</td>\n",
              "      <td>175.0</td>\n",
              "      <td>0 days 00:06:16</td>\n",
              "      <td>0 days 00:05:31</td>\n",
              "      <td>NaT</td>\n",
              "      <td>6</td>\n",
              "      <td>0 days 00:34:30</td>\n",
              "      <td>0 days 00:34:30</td>\n",
              "      <td>1</td>\n",
              "    </tr>\n",
              "    <tr>\n",
              "      <th>1</th>\n",
              "      <td>Corsa</td>\n",
              "      <td>2023-09-12 18:21:59</td>\n",
              "      <td>Olgiate Olona Corsa</td>\n",
              "      <td>5.09</td>\n",
              "      <td>387</td>\n",
              "      <td>0 days 00:33:28</td>\n",
              "      <td>155</td>\n",
              "      <td>184</td>\n",
              "      <td>3.4</td>\n",
              "      <td>163.0</td>\n",
              "      <td>204.0</td>\n",
              "      <td>0 days 00:06:34</td>\n",
              "      <td>0 days 00:04:02</td>\n",
              "      <td>NaT</td>\n",
              "      <td>6</td>\n",
              "      <td>0 days 00:33:26</td>\n",
              "      <td>0 days 00:33:28</td>\n",
              "      <td>1</td>\n",
              "    </tr>\n",
              "    <tr>\n",
              "      <th>2</th>\n",
              "      <td>Corsa</td>\n",
              "      <td>2023-09-11 12:36:31</td>\n",
              "      <td>Olgiate Olona Corsa</td>\n",
              "      <td>5.07</td>\n",
              "      <td>391</td>\n",
              "      <td>0 days 00:34:52</td>\n",
              "      <td>154</td>\n",
              "      <td>168</td>\n",
              "      <td>3.5</td>\n",
              "      <td>163.0</td>\n",
              "      <td>173.0</td>\n",
              "      <td>0 days 00:06:52</td>\n",
              "      <td>0 days 00:06:24</td>\n",
              "      <td>NaT</td>\n",
              "      <td>6</td>\n",
              "      <td>0 days 00:34:51</td>\n",
              "      <td>0 days 00:34:52</td>\n",
              "      <td>1</td>\n",
              "    </tr>\n",
              "    <tr>\n",
              "      <th>3</th>\n",
              "      <td>Corsa</td>\n",
              "      <td>2023-09-09 10:02:38</td>\n",
              "      <td>Olgiate Olona - 15' risc + 8x60'' (@175-185 bpm)</td>\n",
              "      <td>5.56</td>\n",
              "      <td>420</td>\n",
              "      <td>0 days 00:35:18</td>\n",
              "      <td>156</td>\n",
              "      <td>178</td>\n",
              "      <td>4.0</td>\n",
              "      <td>164.0</td>\n",
              "      <td>187.0</td>\n",
              "      <td>0 days 00:06:21</td>\n",
              "      <td>0 days 00:04:29</td>\n",
              "      <td>NaT</td>\n",
              "      <td>20</td>\n",
              "      <td>0 days 00:35:17</td>\n",
              "      <td>0 days 00:35:18</td>\n",
              "      <td>1</td>\n",
              "    </tr>\n",
              "    <tr>\n",
              "      <th>4</th>\n",
              "      <td>Corsa</td>\n",
              "      <td>2023-09-06 12:35:23</td>\n",
              "      <td>Olgiate Olona Corsa</td>\n",
              "      <td>5.21</td>\n",
              "      <td>397</td>\n",
              "      <td>0 days 00:32:16</td>\n",
              "      <td>162</td>\n",
              "      <td>179</td>\n",
              "      <td>4.0</td>\n",
              "      <td>165.0</td>\n",
              "      <td>177.0</td>\n",
              "      <td>0 days 00:06:12</td>\n",
              "      <td>0 days 00:05:23</td>\n",
              "      <td>NaT</td>\n",
              "      <td>6</td>\n",
              "      <td>0 days 00:32:15</td>\n",
              "      <td>0 days 00:32:16</td>\n",
              "      <td>1</td>\n",
              "    </tr>\n",
              "  </tbody>\n",
              "</table>\n",
              "</div>\n",
              "    <div class=\"colab-df-buttons\">\n",
              "\n",
              "  <div class=\"colab-df-container\">\n",
              "    <button class=\"colab-df-convert\" onclick=\"convertToInteractive('df-784fa2cc-34e8-4ccd-a5e3-c402c07a917b')\"\n",
              "            title=\"Convert this dataframe to an interactive table.\"\n",
              "            style=\"display:none;\">\n",
              "\n",
              "  <svg xmlns=\"http://www.w3.org/2000/svg\" height=\"24px\" viewBox=\"0 -960 960 960\">\n",
              "    <path d=\"M120-120v-720h720v720H120Zm60-500h600v-160H180v160Zm220 220h160v-160H400v160Zm0 220h160v-160H400v160ZM180-400h160v-160H180v160Zm440 0h160v-160H620v160ZM180-180h160v-160H180v160Zm440 0h160v-160H620v160Z\"/>\n",
              "  </svg>\n",
              "    </button>\n",
              "\n",
              "  <style>\n",
              "    .colab-df-container {\n",
              "      display:flex;\n",
              "      gap: 12px;\n",
              "    }\n",
              "\n",
              "    .colab-df-convert {\n",
              "      background-color: #E8F0FE;\n",
              "      border: none;\n",
              "      border-radius: 50%;\n",
              "      cursor: pointer;\n",
              "      display: none;\n",
              "      fill: #1967D2;\n",
              "      height: 32px;\n",
              "      padding: 0 0 0 0;\n",
              "      width: 32px;\n",
              "    }\n",
              "\n",
              "    .colab-df-convert:hover {\n",
              "      background-color: #E2EBFA;\n",
              "      box-shadow: 0px 1px 2px rgba(60, 64, 67, 0.3), 0px 1px 3px 1px rgba(60, 64, 67, 0.15);\n",
              "      fill: #174EA6;\n",
              "    }\n",
              "\n",
              "    .colab-df-buttons div {\n",
              "      margin-bottom: 4px;\n",
              "    }\n",
              "\n",
              "    [theme=dark] .colab-df-convert {\n",
              "      background-color: #3B4455;\n",
              "      fill: #D2E3FC;\n",
              "    }\n",
              "\n",
              "    [theme=dark] .colab-df-convert:hover {\n",
              "      background-color: #434B5C;\n",
              "      box-shadow: 0px 1px 3px 1px rgba(0, 0, 0, 0.15);\n",
              "      filter: drop-shadow(0px 1px 2px rgba(0, 0, 0, 0.3));\n",
              "      fill: #FFFFFF;\n",
              "    }\n",
              "  </style>\n",
              "\n",
              "    <script>\n",
              "      const buttonEl =\n",
              "        document.querySelector('#df-784fa2cc-34e8-4ccd-a5e3-c402c07a917b button.colab-df-convert');\n",
              "      buttonEl.style.display =\n",
              "        google.colab.kernel.accessAllowed ? 'block' : 'none';\n",
              "\n",
              "      async function convertToInteractive(key) {\n",
              "        const element = document.querySelector('#df-784fa2cc-34e8-4ccd-a5e3-c402c07a917b');\n",
              "        const dataTable =\n",
              "          await google.colab.kernel.invokeFunction('convertToInteractive',\n",
              "                                                    [key], {});\n",
              "        if (!dataTable) return;\n",
              "\n",
              "        const docLinkHtml = 'Like what you see? Visit the ' +\n",
              "          '<a target=\"_blank\" href=https://colab.research.google.com/notebooks/data_table.ipynb>data table notebook</a>'\n",
              "          + ' to learn more about interactive tables.';\n",
              "        element.innerHTML = '';\n",
              "        dataTable['output_type'] = 'display_data';\n",
              "        await google.colab.output.renderOutput(dataTable, element);\n",
              "        const docLink = document.createElement('div');\n",
              "        docLink.innerHTML = docLinkHtml;\n",
              "        element.appendChild(docLink);\n",
              "      }\n",
              "    </script>\n",
              "  </div>\n",
              "\n",
              "\n",
              "<div id=\"df-70631b20-a9d0-4b75-8ee0-f94d7af66d61\">\n",
              "  <button class=\"colab-df-quickchart\" onclick=\"quickchart('df-70631b20-a9d0-4b75-8ee0-f94d7af66d61')\"\n",
              "            title=\"Suggest charts.\"\n",
              "            style=\"display:none;\">\n",
              "\n",
              "<svg xmlns=\"http://www.w3.org/2000/svg\" height=\"24px\"viewBox=\"0 0 24 24\"\n",
              "     width=\"24px\">\n",
              "    <g>\n",
              "        <path d=\"M19 3H5c-1.1 0-2 .9-2 2v14c0 1.1.9 2 2 2h14c1.1 0 2-.9 2-2V5c0-1.1-.9-2-2-2zM9 17H7v-7h2v7zm4 0h-2V7h2v10zm4 0h-2v-4h2v4z\"/>\n",
              "    </g>\n",
              "</svg>\n",
              "  </button>\n",
              "\n",
              "<style>\n",
              "  .colab-df-quickchart {\n",
              "      --bg-color: #E8F0FE;\n",
              "      --fill-color: #1967D2;\n",
              "      --hover-bg-color: #E2EBFA;\n",
              "      --hover-fill-color: #174EA6;\n",
              "      --disabled-fill-color: #AAA;\n",
              "      --disabled-bg-color: #DDD;\n",
              "  }\n",
              "\n",
              "  [theme=dark] .colab-df-quickchart {\n",
              "      --bg-color: #3B4455;\n",
              "      --fill-color: #D2E3FC;\n",
              "      --hover-bg-color: #434B5C;\n",
              "      --hover-fill-color: #FFFFFF;\n",
              "      --disabled-bg-color: #3B4455;\n",
              "      --disabled-fill-color: #666;\n",
              "  }\n",
              "\n",
              "  .colab-df-quickchart {\n",
              "    background-color: var(--bg-color);\n",
              "    border: none;\n",
              "    border-radius: 50%;\n",
              "    cursor: pointer;\n",
              "    display: none;\n",
              "    fill: var(--fill-color);\n",
              "    height: 32px;\n",
              "    padding: 0;\n",
              "    width: 32px;\n",
              "  }\n",
              "\n",
              "  .colab-df-quickchart:hover {\n",
              "    background-color: var(--hover-bg-color);\n",
              "    box-shadow: 0 1px 2px rgba(60, 64, 67, 0.3), 0 1px 3px 1px rgba(60, 64, 67, 0.15);\n",
              "    fill: var(--button-hover-fill-color);\n",
              "  }\n",
              "\n",
              "  .colab-df-quickchart-complete:disabled,\n",
              "  .colab-df-quickchart-complete:disabled:hover {\n",
              "    background-color: var(--disabled-bg-color);\n",
              "    fill: var(--disabled-fill-color);\n",
              "    box-shadow: none;\n",
              "  }\n",
              "\n",
              "  .colab-df-spinner {\n",
              "    border: 2px solid var(--fill-color);\n",
              "    border-color: transparent;\n",
              "    border-bottom-color: var(--fill-color);\n",
              "    animation:\n",
              "      spin 1s steps(1) infinite;\n",
              "  }\n",
              "\n",
              "  @keyframes spin {\n",
              "    0% {\n",
              "      border-color: transparent;\n",
              "      border-bottom-color: var(--fill-color);\n",
              "      border-left-color: var(--fill-color);\n",
              "    }\n",
              "    20% {\n",
              "      border-color: transparent;\n",
              "      border-left-color: var(--fill-color);\n",
              "      border-top-color: var(--fill-color);\n",
              "    }\n",
              "    30% {\n",
              "      border-color: transparent;\n",
              "      border-left-color: var(--fill-color);\n",
              "      border-top-color: var(--fill-color);\n",
              "      border-right-color: var(--fill-color);\n",
              "    }\n",
              "    40% {\n",
              "      border-color: transparent;\n",
              "      border-right-color: var(--fill-color);\n",
              "      border-top-color: var(--fill-color);\n",
              "    }\n",
              "    60% {\n",
              "      border-color: transparent;\n",
              "      border-right-color: var(--fill-color);\n",
              "    }\n",
              "    80% {\n",
              "      border-color: transparent;\n",
              "      border-right-color: var(--fill-color);\n",
              "      border-bottom-color: var(--fill-color);\n",
              "    }\n",
              "    90% {\n",
              "      border-color: transparent;\n",
              "      border-bottom-color: var(--fill-color);\n",
              "    }\n",
              "  }\n",
              "</style>\n",
              "\n",
              "  <script>\n",
              "    async function quickchart(key) {\n",
              "      const quickchartButtonEl =\n",
              "        document.querySelector('#' + key + ' button');\n",
              "      quickchartButtonEl.disabled = true;  // To prevent multiple clicks.\n",
              "      quickchartButtonEl.classList.add('colab-df-spinner');\n",
              "      try {\n",
              "        const charts = await google.colab.kernel.invokeFunction(\n",
              "            'suggestCharts', [key], {});\n",
              "      } catch (error) {\n",
              "        console.error('Error during call to suggestCharts:', error);\n",
              "      }\n",
              "      quickchartButtonEl.classList.remove('colab-df-spinner');\n",
              "      quickchartButtonEl.classList.add('colab-df-quickchart-complete');\n",
              "    }\n",
              "    (() => {\n",
              "      let quickchartButtonEl =\n",
              "        document.querySelector('#df-70631b20-a9d0-4b75-8ee0-f94d7af66d61 button');\n",
              "      quickchartButtonEl.style.display =\n",
              "        google.colab.kernel.accessAllowed ? 'block' : 'none';\n",
              "    })();\n",
              "  </script>\n",
              "</div>\n",
              "    </div>\n",
              "  </div>\n"
            ]
          },
          "metadata": {},
          "execution_count": 208
        }
      ]
    },
    {
      "cell_type": "code",
      "source": [
        "distanze=list(dfNew[\"Distanza\"])\n",
        "qta=list(dfNew[\"Qta\"])\n"
      ],
      "metadata": {
        "id": "-LWthMZaAXZY"
      },
      "execution_count": 209,
      "outputs": []
    },
    {
      "cell_type": "markdown",
      "source": [
        "# Statistiche di base"
      ],
      "metadata": {
        "id": "JIML4M6sDnAj"
      }
    },
    {
      "cell_type": "code",
      "source": [
        "print(\"Distanza totale in Km\", dfNew[\"Distanza\"].sum())\n",
        "print(\"Numero di corse totali\", dfNew[\"Qta\"].sum())\n",
        "print(\"Tempo totale attività\", dfNew[\"Tempo\"].sum())\n",
        "print(\"Frequenza cardiaca media\", dfNew[\"FC Media\"].mean())\n",
        "print(\"Totale calorie consumate\", dfNew[\"Calorie\"].sum())"
      ],
      "metadata": {
        "colab": {
          "base_uri": "https://localhost:8080/"
        },
        "id": "FVTLwvdAD1xo",
        "outputId": "04ecda50-7bc0-464a-fb81-030c3cda92aa"
      },
      "execution_count": 210,
      "outputs": [
        {
          "output_type": "stream",
          "name": "stdout",
          "text": [
            "Distanza totale in Km 739.34\n",
            "Numero di corse totali 135\n",
            "Tempo totale attività 3 days 13:32:27\n",
            "Frequenza cardiaca media 152.6962962962963\n",
            "Totale calorie consumate 56922\n"
          ]
        }
      ]
    },
    {
      "cell_type": "code",
      "source": [
        "fix, ax=plt.subplots()\n",
        "ax.hist(distanze)\n",
        "plt.title(\"Distribuzione delle corse in base a distanza\")\n",
        "plt.show()"
      ],
      "metadata": {
        "colab": {
          "base_uri": "https://localhost:8080/",
          "height": 452
        },
        "id": "q1gwUHk566RR",
        "outputId": "c3512ab2-7a55-4c1d-d75d-47601214686e"
      },
      "execution_count": 214,
      "outputs": [
        {
          "output_type": "display_data",
          "data": {
            "text/plain": [
              "<Figure size 640x480 with 1 Axes>"
            ],
            "image/png": "[encoded data removed]"
          },
          "metadata": {}
        }
      ]
    },
    {
      "cell_type": "code",
      "source": [
        "fix, ax=plt.subplots()\n",
        "ax.hist(dfNew[\"Passo medio\"].dt.total_seconds()/60)\n",
        "plt.title(\"Distribuzione delle corse in base a passo medio\")\n",
        "plt.show()"
      ],
      "metadata": {
        "colab": {
          "base_uri": "https://localhost:8080/",
          "height": 452
        },
        "id": "uNLlZ0RJExT4",
        "outputId": "a8e3f81b-c7bf-4fec-ec69-f7b3e6d7d87c"
      },
      "execution_count": 216,
      "outputs": [
        {
          "output_type": "display_data",
          "data": {
            "text/plain": [
              "<Figure size 640x480 with 1 Axes>"
            ],
            "image/png": "[encoded data removed]"
          },
          "metadata": {}
        }
      ]
    },
    {
      "cell_type": "code",
      "source": [
        "fix, ax=plt.subplots()\n",
        "ax.scatter(dfNew['Passo medio'].dt.total_seconds()/60, dfNew['FC Media'])\n",
        "ax.set_xlabel(\"Passo medio\")\n",
        "ax.set_ylabel(\"FC Media\")\n",
        "plt.title(\"Scatter plot frequenza cardiaca in base a passo medio\")\n",
        "plt.show()\n"
      ],
      "metadata": {
        "id": "Wh7PpoAiybZN",
        "colab": {
          "base_uri": "https://localhost:8080/",
          "height": 472
        },
        "outputId": "955bdccd-069f-461f-b939-92be8a65bd5f"
      },
      "execution_count": 212,
      "outputs": [
        {
          "output_type": "display_data",
          "data": {
            "text/plain": [
              "<Figure size 640x480 with 1 Axes>"
            ],
            "image/png": "[encoded data removed]"
          },
          "metadata": {}
        }
      ]
    },
    {
      "cell_type": "code",
      "source": [
        "fig, (ax1,ax2)=plt.subplots(2,1,layout=\"constrained\")\n",
        "fig.suptitle(None)\n",
        "ax1.scatter(dfNew['Distanza'],dfNew['Passo medio'].dt.total_seconds()/60)\n",
        "ax1.set_title(\"Relazione passo medio e distanza in Km\")\n",
        "ax1.set_xlabel(\"Distanza Km\")\n",
        "ax1.set_ylabel(\"Passo medio\")\n",
        "\n",
        "\n",
        "ax2.scatter(dfNew[\"Distanza\"],dfNew['FC Media'])\n",
        "ax2.set_title(\"Relazione FC Media su distanza in Km\")\n",
        "ax2.set_xlabel(\"Distanza Km\")\n",
        "ax1.set_ylabel(\"FC Media\")\n",
        "plt.show()"
      ],
      "metadata": {
        "colab": {
          "base_uri": "https://localhost:8080/",
          "height": 500
        },
        "id": "GZDkAXcP4GJ-",
        "outputId": "81406855-cb74-4790-b296-b0060a0b1f3f"
      },
      "execution_count": 213,
      "outputs": [
        {
          "output_type": "display_data",
          "data": {
            "text/plain": [
              "<Figure size 640x480 with 2 Axes>"
            ],
            "image/png": "[encoded data removed]"
          },
          "metadata": {}
        }
      ]
    }
  ]
}